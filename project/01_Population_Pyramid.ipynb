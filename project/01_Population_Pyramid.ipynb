{
 "cells": [
  {
   "attachments": {},
   "cell_type": "markdown",
   "metadata": {},
   "source": [
    "# 1. 인구 피라미드"
   ]
  },
  {
   "cell_type": "code",
   "execution_count": 1,
   "metadata": {},
   "outputs": [],
   "source": [
    "import pandas as pd"
   ]
  },
  {
   "cell_type": "markdown",
   "metadata": {},
   "source": [
    "## 남자 데이터 정의"
   ]
  },
  {
   "cell_type": "code",
   "execution_count": 2,
   "metadata": {},
   "outputs": [
    {
     "name": "stderr",
     "output_type": "stream",
     "text": [
      "c:\\Users\\jaewo\\anaconda3\\envs\\data_analysis\\lib\\site-packages\\openpyxl\\styles\\stylesheet.py:226: UserWarning: Workbook contains no default style, apply openpyxl's default\n",
      "  warn(\"Workbook contains no default style, apply openpyxl's default\")\n"
     ]
    },
    {
     "data": {
      "text/html": [
       "<div>\n",
       "<style scoped>\n",
       "    .dataframe tbody tr th:only-of-type {\n",
       "        vertical-align: middle;\n",
       "    }\n",
       "\n",
       "    .dataframe tbody tr th {\n",
       "        vertical-align: top;\n",
       "    }\n",
       "\n",
       "    .dataframe thead th {\n",
       "        text-align: right;\n",
       "    }\n",
       "</style>\n",
       "<table border=\"1\" class=\"dataframe\">\n",
       "  <thead>\n",
       "    <tr style=\"text-align: right;\">\n",
       "      <th></th>\n",
       "      <th>0~4세</th>\n",
       "      <th>5~9세</th>\n",
       "      <th>10~14세</th>\n",
       "      <th>15~19세</th>\n",
       "      <th>20~24세</th>\n",
       "      <th>25~29세</th>\n",
       "      <th>30~34세</th>\n",
       "      <th>35~39세</th>\n",
       "      <th>40~44세</th>\n",
       "      <th>45~49세</th>\n",
       "      <th>...</th>\n",
       "      <th>55~59세</th>\n",
       "      <th>60~64세</th>\n",
       "      <th>65~69세</th>\n",
       "      <th>70~74세</th>\n",
       "      <th>75~79세</th>\n",
       "      <th>80~84세</th>\n",
       "      <th>85~89세</th>\n",
       "      <th>90~94세</th>\n",
       "      <th>95~99세</th>\n",
       "      <th>100세 이상</th>\n",
       "    </tr>\n",
       "    <tr>\n",
       "      <th>행정기관</th>\n",
       "      <th></th>\n",
       "      <th></th>\n",
       "      <th></th>\n",
       "      <th></th>\n",
       "      <th></th>\n",
       "      <th></th>\n",
       "      <th></th>\n",
       "      <th></th>\n",
       "      <th></th>\n",
       "      <th></th>\n",
       "      <th></th>\n",
       "      <th></th>\n",
       "      <th></th>\n",
       "      <th></th>\n",
       "      <th></th>\n",
       "      <th></th>\n",
       "      <th></th>\n",
       "      <th></th>\n",
       "      <th></th>\n",
       "      <th></th>\n",
       "      <th></th>\n",
       "    </tr>\n",
       "  </thead>\n",
       "  <tbody>\n",
       "    <tr>\n",
       "      <th>전국</th>\n",
       "      <td>735,117</td>\n",
       "      <td>1,083,105</td>\n",
       "      <td>1,213,464</td>\n",
       "      <td>1,211,715</td>\n",
       "      <td>1,541,418</td>\n",
       "      <td>1,833,407</td>\n",
       "      <td>1,729,285</td>\n",
       "      <td>1,700,977</td>\n",
       "      <td>2,055,169</td>\n",
       "      <td>2,048,838</td>\n",
       "      <td>...</td>\n",
       "      <td>2,051,050</td>\n",
       "      <td>2,087,551</td>\n",
       "      <td>1,535,475</td>\n",
       "      <td>1,034,132</td>\n",
       "      <td>708,637</td>\n",
       "      <td>501,853</td>\n",
       "      <td>208,605</td>\n",
       "      <td>53,022</td>\n",
       "      <td>8,767</td>\n",
       "      <td>1,256</td>\n",
       "    </tr>\n",
       "    <tr>\n",
       "      <th>서울특별시</th>\n",
       "      <td>118,196</td>\n",
       "      <td>163,372</td>\n",
       "      <td>186,469</td>\n",
       "      <td>197,696</td>\n",
       "      <td>274,573</td>\n",
       "      <td>392,540</td>\n",
       "      <td>378,232</td>\n",
       "      <td>334,744</td>\n",
       "      <td>363,961</td>\n",
       "      <td>354,527</td>\n",
       "      <td>...</td>\n",
       "      <td>338,710</td>\n",
       "      <td>342,977</td>\n",
       "      <td>269,525</td>\n",
       "      <td>187,685</td>\n",
       "      <td>135,481</td>\n",
       "      <td>92,526</td>\n",
       "      <td>35,479</td>\n",
       "      <td>9,227</td>\n",
       "      <td>1,661</td>\n",
       "      <td>278</td>\n",
       "    </tr>\n",
       "    <tr>\n",
       "      <th>부산광역시</th>\n",
       "      <td>41,871</td>\n",
       "      <td>64,431</td>\n",
       "      <td>68,929</td>\n",
       "      <td>67,843</td>\n",
       "      <td>94,234</td>\n",
       "      <td>110,898</td>\n",
       "      <td>103,214</td>\n",
       "      <td>100,757</td>\n",
       "      <td>127,865</td>\n",
       "      <td>122,154</td>\n",
       "      <td>...</td>\n",
       "      <td>127,036</td>\n",
       "      <td>143,229</td>\n",
       "      <td>118,375</td>\n",
       "      <td>83,558</td>\n",
       "      <td>55,506</td>\n",
       "      <td>36,254</td>\n",
       "      <td>13,174</td>\n",
       "      <td>3,039</td>\n",
       "      <td>409</td>\n",
       "      <td>71</td>\n",
       "    </tr>\n",
       "  </tbody>\n",
       "</table>\n",
       "<p>3 rows × 21 columns</p>\n",
       "</div>"
      ],
      "text/plain": [
       "            0~4세       5~9세     10~14세     15~19세     20~24세     25~29세  \\\n",
       "행정기관                                                                      \n",
       "전국       735,117  1,083,105  1,213,464  1,211,715  1,541,418  1,833,407   \n",
       "서울특별시    118,196    163,372    186,469    197,696    274,573    392,540   \n",
       "부산광역시     41,871     64,431     68,929     67,843     94,234    110,898   \n",
       "\n",
       "            30~34세     35~39세     40~44세     45~49세  ...     55~59세  \\\n",
       "행정기관                                                 ...              \n",
       "전국       1,729,285  1,700,977  2,055,169  2,048,838  ...  2,051,050   \n",
       "서울특별시      378,232    334,744    363,961    354,527  ...    338,710   \n",
       "부산광역시      103,214    100,757    127,865    122,154  ...    127,036   \n",
       "\n",
       "            60~64세     65~69세     70~74세   75~79세   80~84세   85~89세  90~94세  \\\n",
       "행정기관                                                                          \n",
       "전국       2,087,551  1,535,475  1,034,132  708,637  501,853  208,605  53,022   \n",
       "서울특별시      342,977    269,525    187,685  135,481   92,526   35,479   9,227   \n",
       "부산광역시      143,229    118,375     83,558   55,506   36,254   13,174   3,039   \n",
       "\n",
       "        95~99세 100세 이상  \n",
       "행정기관                    \n",
       "전국       8,767   1,256  \n",
       "서울특별시    1,661     278  \n",
       "부산광역시      409      71  \n",
       "\n",
       "[3 rows x 21 columns]"
      ]
     },
     "execution_count": 2,
     "metadata": {},
     "output_type": "execute_result"
    }
   ],
   "source": [
    "file_name, year = \"202211_202211_연령별인구현황_월간.xlsx\", 2022\n",
    "\n",
    "df_m = pd.read_excel(file_name, skiprows=3, index_col=\"행정기관\", usecols=\"B, E:Y\")\n",
    "df_m.head(3)"
   ]
  },
  {
   "cell_type": "code",
   "execution_count": 3,
   "metadata": {},
   "outputs": [],
   "source": [
    "df_m.iloc[0] = df_m.iloc[0].str.replace(\",\", \"\").astype(int)  # 1,195,951 -> 1195951 (정수형)"
   ]
  },
  {
   "cell_type": "code",
   "execution_count": 4,
   "metadata": {},
   "outputs": [
    {
     "data": {
      "text/plain": [
       "0~4세        735117\n",
       "5~9세       1083105\n",
       "10~14세     1213464\n",
       "15~19세     1211715\n",
       "20~24세     1541418\n",
       "25~29세     1833407\n",
       "30~34세     1729285\n",
       "35~39세     1700977\n",
       "40~44세     2055169\n",
       "45~49세     2048838\n",
       "50~54세     2301046\n",
       "55~59세     2051050\n",
       "60~64세     2087551\n",
       "65~69세     1535475\n",
       "70~74세     1034132\n",
       "75~79세      708637\n",
       "80~84세      501853\n",
       "85~89세      208605\n",
       "90~94세       53022\n",
       "95~99세        8767\n",
       "100세 이상       1256\n",
       "Name: 전국  , dtype: object"
      ]
     },
     "execution_count": 4,
     "metadata": {},
     "output_type": "execute_result"
    }
   ],
   "source": [
    "df_m.iloc[0]"
   ]
  },
  {
   "attachments": {},
   "cell_type": "markdown",
   "metadata": {},
   "source": [
    "## 여자 데이터 정의"
   ]
  },
  {
   "cell_type": "code",
   "execution_count": 5,
   "metadata": {},
   "outputs": [
    {
     "name": "stderr",
     "output_type": "stream",
     "text": [
      "c:\\Users\\jaewo\\anaconda3\\envs\\data_analysis\\lib\\site-packages\\openpyxl\\styles\\stylesheet.py:226: UserWarning: Workbook contains no default style, apply openpyxl's default\n",
      "  warn(\"Workbook contains no default style, apply openpyxl's default\")\n"
     ]
    },
    {
     "data": {
      "text/html": [
       "<div>\n",
       "<style scoped>\n",
       "    .dataframe tbody tr th:only-of-type {\n",
       "        vertical-align: middle;\n",
       "    }\n",
       "\n",
       "    .dataframe tbody tr th {\n",
       "        vertical-align: top;\n",
       "    }\n",
       "\n",
       "    .dataframe thead th {\n",
       "        text-align: right;\n",
       "    }\n",
       "</style>\n",
       "<table border=\"1\" class=\"dataframe\">\n",
       "  <thead>\n",
       "    <tr style=\"text-align: right;\">\n",
       "      <th></th>\n",
       "      <th>0~4세.1</th>\n",
       "      <th>5~9세.1</th>\n",
       "      <th>10~14세.1</th>\n",
       "      <th>15~19세.1</th>\n",
       "      <th>20~24세.1</th>\n",
       "      <th>25~29세.1</th>\n",
       "      <th>30~34세.1</th>\n",
       "      <th>35~39세.1</th>\n",
       "      <th>40~44세.1</th>\n",
       "      <th>45~49세.1</th>\n",
       "      <th>...</th>\n",
       "      <th>55~59세.1</th>\n",
       "      <th>60~64세.1</th>\n",
       "      <th>65~69세.1</th>\n",
       "      <th>70~74세.1</th>\n",
       "      <th>75~79세.1</th>\n",
       "      <th>80~84세.1</th>\n",
       "      <th>85~89세.1</th>\n",
       "      <th>90~94세.1</th>\n",
       "      <th>95~99세.1</th>\n",
       "      <th>100세 이상.1</th>\n",
       "    </tr>\n",
       "    <tr>\n",
       "      <th>행정기관</th>\n",
       "      <th></th>\n",
       "      <th></th>\n",
       "      <th></th>\n",
       "      <th></th>\n",
       "      <th></th>\n",
       "      <th></th>\n",
       "      <th></th>\n",
       "      <th></th>\n",
       "      <th></th>\n",
       "      <th></th>\n",
       "      <th></th>\n",
       "      <th></th>\n",
       "      <th></th>\n",
       "      <th></th>\n",
       "      <th></th>\n",
       "      <th></th>\n",
       "      <th></th>\n",
       "      <th></th>\n",
       "      <th></th>\n",
       "      <th></th>\n",
       "      <th></th>\n",
       "    </tr>\n",
       "  </thead>\n",
       "  <tbody>\n",
       "    <tr>\n",
       "      <th>전국</th>\n",
       "      <td>699,151</td>\n",
       "      <td>1,030,918</td>\n",
       "      <td>1,146,276</td>\n",
       "      <td>1,133,238</td>\n",
       "      <td>1,419,041</td>\n",
       "      <td>1,647,676</td>\n",
       "      <td>1,574,103</td>\n",
       "      <td>1,616,348</td>\n",
       "      <td>1,982,199</td>\n",
       "      <td>1,997,501</td>\n",
       "      <td>...</td>\n",
       "      <td>2,012,739</td>\n",
       "      <td>2,124,329</td>\n",
       "      <td>1,632,065</td>\n",
       "      <td>1,170,190</td>\n",
       "      <td>905,928</td>\n",
       "      <td>797,687</td>\n",
       "      <td>454,522</td>\n",
       "      <td>174,325</td>\n",
       "      <td>39,263</td>\n",
       "      <td>6,487</td>\n",
       "    </tr>\n",
       "    <tr>\n",
       "      <th>서울특별시</th>\n",
       "      <td>110,747</td>\n",
       "      <td>156,093</td>\n",
       "      <td>176,519</td>\n",
       "      <td>189,432</td>\n",
       "      <td>308,018</td>\n",
       "      <td>419,769</td>\n",
       "      <td>377,331</td>\n",
       "      <td>335,940</td>\n",
       "      <td>369,629</td>\n",
       "      <td>364,853</td>\n",
       "      <td>...</td>\n",
       "      <td>351,953</td>\n",
       "      <td>375,220</td>\n",
       "      <td>308,156</td>\n",
       "      <td>220,375</td>\n",
       "      <td>168,783</td>\n",
       "      <td>126,077</td>\n",
       "      <td>65,231</td>\n",
       "      <td>25,101</td>\n",
       "      <td>6,091</td>\n",
       "      <td>1,028</td>\n",
       "    </tr>\n",
       "    <tr>\n",
       "      <th>부산광역시</th>\n",
       "      <td>39,815</td>\n",
       "      <td>61,163</td>\n",
       "      <td>65,313</td>\n",
       "      <td>63,955</td>\n",
       "      <td>89,337</td>\n",
       "      <td>102,765</td>\n",
       "      <td>96,301</td>\n",
       "      <td>97,047</td>\n",
       "      <td>124,066</td>\n",
       "      <td>121,417</td>\n",
       "      <td>...</td>\n",
       "      <td>135,824</td>\n",
       "      <td>159,775</td>\n",
       "      <td>133,815</td>\n",
       "      <td>98,787</td>\n",
       "      <td>69,902</td>\n",
       "      <td>55,851</td>\n",
       "      <td>28,191</td>\n",
       "      <td>10,173</td>\n",
       "      <td>2,327</td>\n",
       "      <td>329</td>\n",
       "    </tr>\n",
       "  </tbody>\n",
       "</table>\n",
       "<p>3 rows × 21 columns</p>\n",
       "</div>"
      ],
      "text/plain": [
       "          0~4세.1     5~9세.1   10~14세.1   15~19세.1   20~24세.1   25~29세.1  \\\n",
       "행정기관                                                                      \n",
       "전국       699,151  1,030,918  1,146,276  1,133,238  1,419,041  1,647,676   \n",
       "서울특별시    110,747    156,093    176,519    189,432    308,018    419,769   \n",
       "부산광역시     39,815     61,163     65,313     63,955     89,337    102,765   \n",
       "\n",
       "          30~34세.1   35~39세.1   40~44세.1   45~49세.1  ...   55~59세.1  \\\n",
       "행정기관                                                 ...              \n",
       "전국       1,574,103  1,616,348  1,982,199  1,997,501  ...  2,012,739   \n",
       "서울특별시      377,331    335,940    369,629    364,853  ...    351,953   \n",
       "부산광역시       96,301     97,047    124,066    121,417  ...    135,824   \n",
       "\n",
       "          60~64세.1   65~69세.1   70~74세.1 75~79세.1 80~84세.1 85~89세.1 90~94세.1  \\\n",
       "행정기관                                                                           \n",
       "전국       2,124,329  1,632,065  1,170,190  905,928  797,687  454,522  174,325   \n",
       "서울특별시      375,220    308,156    220,375  168,783  126,077   65,231   25,101   \n",
       "부산광역시      159,775    133,815     98,787   69,902   55,851   28,191   10,173   \n",
       "\n",
       "        95~99세.1 100세 이상.1  \n",
       "행정기관                        \n",
       "전국        39,263     6,487  \n",
       "서울특별시      6,091     1,028  \n",
       "부산광역시      2,327       329  \n",
       "\n",
       "[3 rows x 21 columns]"
      ]
     },
     "execution_count": 5,
     "metadata": {},
     "output_type": "execute_result"
    }
   ],
   "source": [
    "df_w = pd.read_excel(file_name, skiprows=3, index_col=\"행정기관\", usecols=\"B, AB:AV\")\n",
    "df_w.head(3)"
   ]
  },
  {
   "cell_type": "code",
   "execution_count": 6,
   "metadata": {},
   "outputs": [
    {
     "data": {
      "text/plain": [
       "Index(['0~4세', '5~9세', '10~14세', '15~19세', '20~24세', '25~29세', '30~34세',\n",
       "       '35~39세', '40~44세', '45~49세', '50~54세', '55~59세', '60~64세', '65~69세',\n",
       "       '70~74세', '75~79세', '80~84세', '85~89세', '90~94세', '95~99세', '100세 이상'],\n",
       "      dtype='object')"
      ]
     },
     "execution_count": 6,
     "metadata": {},
     "output_type": "execute_result"
    }
   ],
   "source": [
    "df_m.columns"
   ]
  },
  {
   "cell_type": "code",
   "execution_count": 7,
   "metadata": {},
   "outputs": [
    {
     "data": {
      "text/plain": [
       "Index(['0~4세.1', '5~9세.1', '10~14세.1', '15~19세.1', '20~24세.1', '25~29세.1',\n",
       "       '30~34세.1', '35~39세.1', '40~44세.1', '45~49세.1', '50~54세.1', '55~59세.1',\n",
       "       '60~64세.1', '65~69세.1', '70~74세.1', '75~79세.1', '80~84세.1', '85~89세.1',\n",
       "       '90~94세.1', '95~99세.1', '100세 이상.1'],\n",
       "      dtype='object')"
      ]
     },
     "execution_count": 7,
     "metadata": {},
     "output_type": "execute_result"
    }
   ],
   "source": [
    "df_w.columns"
   ]
  },
  {
   "cell_type": "code",
   "execution_count": 8,
   "metadata": {},
   "outputs": [
    {
     "data": {
      "text/plain": [
       "Index(['0~4세', '5~9세', '10~14세', '15~19세', '20~24세', '25~29세', '30~34세',\n",
       "       '35~39세', '40~44세', '45~49세', '50~54세', '55~59세', '60~64세', '65~69세',\n",
       "       '70~74세', '75~79세', '80~84세', '85~89세', '90~94세', '95~99세', '100세 이상'],\n",
       "      dtype='object')"
      ]
     },
     "execution_count": 8,
     "metadata": {},
     "output_type": "execute_result"
    }
   ],
   "source": [
    "df_w.columns = df_m.columns\n",
    "df_w.columns"
   ]
  },
  {
   "cell_type": "code",
   "execution_count": 9,
   "metadata": {},
   "outputs": [],
   "source": [
    "df_w.iloc[0] = df_w.iloc[0].str.replace(\",\", \"\").astype(int)  # 1,195,951 -> 1195951 (정수형)"
   ]
  },
  {
   "cell_type": "code",
   "execution_count": 10,
   "metadata": {},
   "outputs": [
    {
     "data": {
      "text/plain": [
       "0~4세        699151\n",
       "5~9세       1030918\n",
       "10~14세     1146276\n",
       "15~19세     1133238\n",
       "20~24세     1419041\n",
       "25~29세     1647676\n",
       "30~34세     1574103\n",
       "35~39세     1616348\n",
       "40~44세     1982199\n",
       "45~49세     1997501\n",
       "50~54세     2242954\n",
       "55~59세     2012739\n",
       "60~64세     2124329\n",
       "65~69세     1632065\n",
       "70~74세     1170190\n",
       "75~79세      905928\n",
       "80~84세      797687\n",
       "85~89세      454522\n",
       "90~94세      174325\n",
       "95~99세       39263\n",
       "100세 이상       6487\n",
       "Name: 전국  , dtype: object"
      ]
     },
     "execution_count": 10,
     "metadata": {},
     "output_type": "execute_result"
    }
   ],
   "source": [
    "df_w.iloc[0]"
   ]
  },
  {
   "attachments": {},
   "cell_type": "markdown",
   "metadata": {},
   "source": [
    "## 데이터 시각화"
   ]
  },
  {
   "cell_type": "code",
   "execution_count": 11,
   "metadata": {},
   "outputs": [],
   "source": [
    "import matplotlib.pyplot as plt\n",
    "\n",
    "import matplotlib\n",
    "\n",
    "matplotlib.rcParams[\"font.family\"] = \"Malgun Gothic\"\n",
    "matplotlib.rcParams[\"font.size\"] = 15\n",
    "matplotlib.rcParams[\"axes.unicode_minus\"] = False"
   ]
  },
  {
   "cell_type": "code",
   "execution_count": 12,
   "metadata": {},
   "outputs": [
    {
     "data": {
      "image/png": "[encoded data removed]",
      "text/plain": [
       "<Figure size 1000x700 with 1 Axes>"
      ]
     },
     "metadata": {},
     "output_type": "display_data"
    }
   ],
   "source": [
    "plt.figure(figsize=(10, 7))\n",
    "plt.barh(df_m.columns, -df_m.iloc[0] // 1000)  # 단위 : 천 명\n",
    "plt.barh(df_w.columns, df_w.iloc[0] // 1000)  # 단위 : 천 명\n",
    "plt.title(f\"{year} 대한민국 인구 피라미드\")\n",
    "plt.savefig(f\"{year}_인구피라미드.png\", dpi=100)\n",
    "plt.show()"
   ]
  }
 ],
 "metadata": {
  "kernelspec": {
   "display_name": "data_analysis",
   "language": "python",
   "name": "python3"
  },
  "language_info": {
   "codemirror_mode": {
    "name": "ipython",
    "version": 3
   },
   "file_extension": ".py",
   "mimetype": "text/x-python",
   "name": "python",
   "nbconvert_exporter": "python",
   "pygments_lexer": "ipython3",
   "version": "3.10.8 | packaged by conda-forge | (main, Nov 24 2022, 14:07:00) [MSC v.1916 64 bit (AMD64)]"
  },
  "orig_nbformat": 4,
  "vscode": {
   "interpreter": {
    "hash": "b538c785b3f4ce343f68e9a954104a135d66c70a7f60e58d4ec58988710a4b59"
   }
  }
 },
 "nbformat": 4,
 "nbformat_minor": 2
}
